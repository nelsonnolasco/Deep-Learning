{
  "nbformat": 4,
  "nbformat_minor": 0,
  "metadata": {
    "colab": {
      "name": "atividade2_numpy_Nelson.ipynb",
      "provenance": [],
      "collapsed_sections": []
    },
    "kernelspec": {
      "name": "python3",
      "display_name": "Python 3"
    }
  },
  "cells": [
    {
      "cell_type": "markdown",
      "metadata": {
        "id": "ZrUFj1Uq1KU0",
        "colab_type": "text"
      },
      "source": [
        "Aluno: Nelson de Campos Nolasco.\n",
        "\n",
        "Disciplina: Deep Learning.\n",
        "\n",
        "Professor: Rafael Glater"
      ]
    },
    {
      "cell_type": "code",
      "metadata": {
        "id": "TreBT23mhrqZ",
        "colab_type": "code",
        "colab": {}
      },
      "source": [
        "%matplotlib inline # as saídas vão ser na própria tela do notebbok"
      ],
      "execution_count": null,
      "outputs": []
    },
    {
      "cell_type": "code",
      "metadata": {
        "id": "CIBENBwnvoXQ",
        "colab_type": "code",
        "colab": {}
      },
      "source": [
        "from matplotlib import pyplot as plt\n",
        "import numpy as np\n",
        "import random"
      ],
      "execution_count": 2,
      "outputs": []
    },
    {
      "cell_type": "markdown",
      "metadata": {
        "id": "soz1T0CI10Ze",
        "colab_type": "text"
      },
      "source": [
        "# Baixando o dataset"
      ]
    },
    {
      "cell_type": "code",
      "metadata": {
        "id": "CmA8xwYpiFmC",
        "colab_type": "code",
        "colab": {
          "base_uri": "https://localhost:8080/",
          "height": 138
        },
        "outputId": "95901b09-d513-4bf3-d574-a5cc19261c4e"
      },
      "source": [
        "%tensorflow_version 2.x # usando tensorflow para baixar dataset\n",
        "import tensorflow as tf\n",
        "(x_train, y_train), (x_test, y_test) = tf.keras.datasets.mnist.load_data() "
      ],
      "execution_count": 3,
      "outputs": [
        {
          "output_type": "stream",
          "text": [
            "`%tensorflow_version` only switches the major version: 1.x or 2.x.\n",
            "You set: `2.x # usando tensorflow para baixar dataset`. This will be interpreted as: `2.x`.\n",
            "\n",
            "\n",
            "TensorFlow 2.x selected.\n",
            "Downloading data from https://storage.googleapis.com/tensorflow/tf-keras-datasets/mnist.npz\n",
            "11493376/11490434 [==============================] - 0s 0us/step\n"
          ],
          "name": "stdout"
        }
      ]
    },
    {
      "cell_type": "markdown",
      "metadata": {
        "id": "Ug3cUjp317Ke",
        "colab_type": "text"
      },
      "source": [
        "## Conferindo:"
      ]
    },
    {
      "cell_type": "code",
      "metadata": {
        "id": "t9rrMqgUiUGn",
        "colab_type": "code",
        "colab": {
          "base_uri": "https://localhost:8080/",
          "height": 1000
        },
        "outputId": "54b0c3e0-7250-483f-f5ec-b46325585607"
      },
      "source": [
        "x_train[0]"
      ],
      "execution_count": 4,
      "outputs": [
        {
          "output_type": "execute_result",
          "data": {
            "text/plain": [
              "array([[  0,   0,   0,   0,   0,   0,   0,   0,   0,   0,   0,   0,   0,\n",
              "          0,   0,   0,   0,   0,   0,   0,   0,   0,   0,   0,   0,   0,\n",
              "          0,   0],\n",
              "       [  0,   0,   0,   0,   0,   0,   0,   0,   0,   0,   0,   0,   0,\n",
              "          0,   0,   0,   0,   0,   0,   0,   0,   0,   0,   0,   0,   0,\n",
              "          0,   0],\n",
              "       [  0,   0,   0,   0,   0,   0,   0,   0,   0,   0,   0,   0,   0,\n",
              "          0,   0,   0,   0,   0,   0,   0,   0,   0,   0,   0,   0,   0,\n",
              "          0,   0],\n",
              "       [  0,   0,   0,   0,   0,   0,   0,   0,   0,   0,   0,   0,   0,\n",
              "          0,   0,   0,   0,   0,   0,   0,   0,   0,   0,   0,   0,   0,\n",
              "          0,   0],\n",
              "       [  0,   0,   0,   0,   0,   0,   0,   0,   0,   0,   0,   0,   0,\n",
              "          0,   0,   0,   0,   0,   0,   0,   0,   0,   0,   0,   0,   0,\n",
              "          0,   0],\n",
              "       [  0,   0,   0,   0,   0,   0,   0,   0,   0,   0,   0,   0,   3,\n",
              "         18,  18,  18, 126, 136, 175,  26, 166, 255, 247, 127,   0,   0,\n",
              "          0,   0],\n",
              "       [  0,   0,   0,   0,   0,   0,   0,   0,  30,  36,  94, 154, 170,\n",
              "        253, 253, 253, 253, 253, 225, 172, 253, 242, 195,  64,   0,   0,\n",
              "          0,   0],\n",
              "       [  0,   0,   0,   0,   0,   0,   0,  49, 238, 253, 253, 253, 253,\n",
              "        253, 253, 253, 253, 251,  93,  82,  82,  56,  39,   0,   0,   0,\n",
              "          0,   0],\n",
              "       [  0,   0,   0,   0,   0,   0,   0,  18, 219, 253, 253, 253, 253,\n",
              "        253, 198, 182, 247, 241,   0,   0,   0,   0,   0,   0,   0,   0,\n",
              "          0,   0],\n",
              "       [  0,   0,   0,   0,   0,   0,   0,   0,  80, 156, 107, 253, 253,\n",
              "        205,  11,   0,  43, 154,   0,   0,   0,   0,   0,   0,   0,   0,\n",
              "          0,   0],\n",
              "       [  0,   0,   0,   0,   0,   0,   0,   0,   0,  14,   1, 154, 253,\n",
              "         90,   0,   0,   0,   0,   0,   0,   0,   0,   0,   0,   0,   0,\n",
              "          0,   0],\n",
              "       [  0,   0,   0,   0,   0,   0,   0,   0,   0,   0,   0, 139, 253,\n",
              "        190,   2,   0,   0,   0,   0,   0,   0,   0,   0,   0,   0,   0,\n",
              "          0,   0],\n",
              "       [  0,   0,   0,   0,   0,   0,   0,   0,   0,   0,   0,  11, 190,\n",
              "        253,  70,   0,   0,   0,   0,   0,   0,   0,   0,   0,   0,   0,\n",
              "          0,   0],\n",
              "       [  0,   0,   0,   0,   0,   0,   0,   0,   0,   0,   0,   0,  35,\n",
              "        241, 225, 160, 108,   1,   0,   0,   0,   0,   0,   0,   0,   0,\n",
              "          0,   0],\n",
              "       [  0,   0,   0,   0,   0,   0,   0,   0,   0,   0,   0,   0,   0,\n",
              "         81, 240, 253, 253, 119,  25,   0,   0,   0,   0,   0,   0,   0,\n",
              "          0,   0],\n",
              "       [  0,   0,   0,   0,   0,   0,   0,   0,   0,   0,   0,   0,   0,\n",
              "          0,  45, 186, 253, 253, 150,  27,   0,   0,   0,   0,   0,   0,\n",
              "          0,   0],\n",
              "       [  0,   0,   0,   0,   0,   0,   0,   0,   0,   0,   0,   0,   0,\n",
              "          0,   0,  16,  93, 252, 253, 187,   0,   0,   0,   0,   0,   0,\n",
              "          0,   0],\n",
              "       [  0,   0,   0,   0,   0,   0,   0,   0,   0,   0,   0,   0,   0,\n",
              "          0,   0,   0,   0, 249, 253, 249,  64,   0,   0,   0,   0,   0,\n",
              "          0,   0],\n",
              "       [  0,   0,   0,   0,   0,   0,   0,   0,   0,   0,   0,   0,   0,\n",
              "          0,  46, 130, 183, 253, 253, 207,   2,   0,   0,   0,   0,   0,\n",
              "          0,   0],\n",
              "       [  0,   0,   0,   0,   0,   0,   0,   0,   0,   0,   0,   0,  39,\n",
              "        148, 229, 253, 253, 253, 250, 182,   0,   0,   0,   0,   0,   0,\n",
              "          0,   0],\n",
              "       [  0,   0,   0,   0,   0,   0,   0,   0,   0,   0,  24, 114, 221,\n",
              "        253, 253, 253, 253, 201,  78,   0,   0,   0,   0,   0,   0,   0,\n",
              "          0,   0],\n",
              "       [  0,   0,   0,   0,   0,   0,   0,   0,  23,  66, 213, 253, 253,\n",
              "        253, 253, 198,  81,   2,   0,   0,   0,   0,   0,   0,   0,   0,\n",
              "          0,   0],\n",
              "       [  0,   0,   0,   0,   0,   0,  18, 171, 219, 253, 253, 253, 253,\n",
              "        195,  80,   9,   0,   0,   0,   0,   0,   0,   0,   0,   0,   0,\n",
              "          0,   0],\n",
              "       [  0,   0,   0,   0,  55, 172, 226, 253, 253, 253, 253, 244, 133,\n",
              "         11,   0,   0,   0,   0,   0,   0,   0,   0,   0,   0,   0,   0,\n",
              "          0,   0],\n",
              "       [  0,   0,   0,   0, 136, 253, 253, 253, 212, 135, 132,  16,   0,\n",
              "          0,   0,   0,   0,   0,   0,   0,   0,   0,   0,   0,   0,   0,\n",
              "          0,   0],\n",
              "       [  0,   0,   0,   0,   0,   0,   0,   0,   0,   0,   0,   0,   0,\n",
              "          0,   0,   0,   0,   0,   0,   0,   0,   0,   0,   0,   0,   0,\n",
              "          0,   0],\n",
              "       [  0,   0,   0,   0,   0,   0,   0,   0,   0,   0,   0,   0,   0,\n",
              "          0,   0,   0,   0,   0,   0,   0,   0,   0,   0,   0,   0,   0,\n",
              "          0,   0],\n",
              "       [  0,   0,   0,   0,   0,   0,   0,   0,   0,   0,   0,   0,   0,\n",
              "          0,   0,   0,   0,   0,   0,   0,   0,   0,   0,   0,   0,   0,\n",
              "          0,   0]], dtype=uint8)"
            ]
          },
          "metadata": {
            "tags": []
          },
          "execution_count": 4
        }
      ]
    },
    {
      "cell_type": "code",
      "metadata": {
        "id": "8ElJgqmgumWz",
        "colab_type": "code",
        "colab": {
          "base_uri": "https://localhost:8080/",
          "height": 34
        },
        "outputId": "555e416e-bc22-43a5-f663-8aac5822c79b"
      },
      "source": [
        "y_train[0] "
      ],
      "execution_count": 5,
      "outputs": [
        {
          "output_type": "execute_result",
          "data": {
            "text/plain": [
              "5"
            ]
          },
          "metadata": {
            "tags": []
          },
          "execution_count": 5
        }
      ]
    },
    {
      "cell_type": "code",
      "metadata": {
        "id": "peKPq9kIjclQ",
        "colab_type": "code",
        "colab": {
          "base_uri": "https://localhost:8080/",
          "height": 265
        },
        "outputId": "6105a9a7-52ef-416b-81ad-a4d78a45b08d"
      },
      "source": [
        "plt.imshow(x_train[0], cmap='Greys')\n",
        "plt.gray()\n",
        "plt.show()"
      ],
      "execution_count": 6,
      "outputs": [
        {
          "output_type": "display_data",
          "data": {
            "image/png": "[encoded data removed]",
            "text/plain": [
              "<Figure size 432x288 with 1 Axes>"
            ]
          },
          "metadata": {
            "tags": [],
            "needs_background": "light"
          }
        }
      ]
    },
    {
      "cell_type": "markdown",
      "metadata": {
        "id": "wSqC8Zl82A9v",
        "colab_type": "text"
      },
      "source": [
        "# Funções úteis"
      ]
    },
    {
      "cell_type": "code",
      "metadata": {
        "id": "hH-btC0lw6oH",
        "colab_type": "code",
        "colab": {}
      },
      "source": [
        "def sigmoid(z):\n",
        "    return 1.0 / (1.0 + np.exp(-z)) # fórmula da sigmod\n",
        "\n",
        "def sigmoidPrime(z):\n",
        "    return sigmoid(z) * (1 - sigmoid(z)) # derivada parcial da sigmod\n",
        "\n",
        "def softmax(x, axis=-1):  # fórmula da softmx para obter as saídas\n",
        "    e_x = np.exp(x - np.max(x))\n",
        "    return e_x / e_x.sum(axis=axis, keepdims=True)\n",
        "\n",
        "def one_hot(values, depth): # transformar o número 5 do y_train[0] em um vetor\n",
        "# de zeros e um.\n",
        "    return np.eye(depth)[values]\n",
        "\n",
        "def shuffleData(X, y):\n",
        "    c = list(zip(X, y))\n",
        "    random.shuffle(c)\n",
        "    X, y = zip(*c)\n",
        "    return (np.asarray(X), np.asarray(y))\n",
        "\n",
        "def cost(X, y, w1, b1, w2, b2, reg_lambda):\n",
        "    a1 = X\n",
        "    z2 = a1.dot(w1) + b1\n",
        "    a2 = sigmoid(z2)\n",
        "    z3 = a2.dot(w2) + b2\n",
        "    a3 = softmax(z3)\n",
        "\n",
        "    sample_size = len(X)\n",
        "\n",
        "    # comput the difference between each output unit K and unit in y\n",
        "    diff_Ks = -y * np.log(a3) - (1 - y) * np.log(1 - a3)\n",
        "    # first sum the Ks, then sum all samples\n",
        "    J = sum(np.sum(diff_Ks, axis=0)) / sample_size\n",
        "    \n",
        "    # regularization part\n",
        "    sum1 = sum(w1 ** 2)\n",
        "    sum2 = sum(w2 ** 2)\n",
        "    sum3 = sum(np.concatenate((sum1, sum2)))\n",
        "    J = J + ((reg_lambda * sum3) / (2 * sample_size))\n",
        "    return J\n",
        "\n",
        "def predict(X, w1, b1, w2, b2):\n",
        "    a1 = X\n",
        "    z2 = a1.dot(w1) + b1\n",
        "    a2 = sigmoid(z2)\n",
        "    z3 = a2.dot(w2) + b2\n",
        "    a3 = softmax(z3)\n",
        "    return np.argmax(a3, axis=1)\n",
        "\n",
        "\n",
        "def evaluatePredictions(predictions, y): # para saber a porcentafem de acerto\n",
        "    return np.equal(predictions, y).sum() / float(len(y))"
      ],
      "execution_count": 7,
      "outputs": []
    },
    {
      "cell_type": "markdown",
      "metadata": {
        "id": "siuAkwUt2HA9",
        "colab_type": "text"
      },
      "source": [
        "# Configurando a rede neural"
      ]
    },
    {
      "cell_type": "code",
      "metadata": {
        "id": "VGndVqZ-2HRR",
        "colab_type": "code",
        "colab": {}
      },
      "source": [
        "input_layer_size = 784 # imagem de 28 x 28\n",
        "hidden_layer_size = 30 # tamanho da rede neural\n",
        "output_layer_size = 10 # saida igual os números possíveis\n",
        "reg_lambda = 5.0 # regularização\n",
        "lr = 0.1 #learning rate\n",
        "batch_size = 10 # quantas porção de treino vai pegar a cada vez\n",
        "epochs = 30 # quantas vezes irão passar pelo 60 mil dados\n",
        "training_size = float(len(x_train)) # tamanho do treino\n",
        "test_size = float(len(x_test)) # // teste\n",
        "\n",
        "# Inicializando os pesos a partir de uma distribuição uniforme: np.random.uniform\n",
        "# (Também podemos inicializar de uma distribuição normal padrão: np.random.randn)\n",
        "w1 = np.random.uniform(-0.12, 0.12, (input_layer_size, hidden_layer_size))\n",
        "w2 = np.random.uniform(-0.12, 0.12, (hidden_layer_size, output_layer_size))\n",
        "b1 = np.random.uniform(-0.12, 0.12, (1, hidden_layer_size))\n",
        "b2 = np.random.uniform(-0.12, 0.12, (1, output_layer_size))"
      ],
      "execution_count": 8,
      "outputs": []
    },
    {
      "cell_type": "code",
      "metadata": {
        "id": "16_WgGlmZBRE",
        "colab_type": "code",
        "colab": {
          "base_uri": "https://localhost:8080/",
          "height": 34
        },
        "outputId": "25798e9d-908f-4aed-ba34-68d477dc9dfb"
      },
      "source": [
        "w1.shape"
      ],
      "execution_count": 9,
      "outputs": [
        {
          "output_type": "execute_result",
          "data": {
            "text/plain": [
              "(784, 30)"
            ]
          },
          "metadata": {
            "tags": []
          },
          "execution_count": 9
        }
      ]
    },
    {
      "cell_type": "markdown",
      "metadata": {
        "id": "Fqijjjbb20v0",
        "colab_type": "text"
      },
      "source": [
        "# Tratando os dados\n",
        "\n",
        "Temos que fazer alguns tratamentos nos dados para executar o treino de maneira adequada:\n",
        "\n",
        "- Converter os labels para one hot encoding. Ou seja, o label \"5\", precisa ser transformado em: \"[0,0,0,0,0,1,0,0,0,0]\". A primeira posição representa o \"0\" e a última o \"9\".\n",
        "\n",
        "- Temos que mudar a forma dos dados de entrada, ao invés de termos uma matriz de 28x28, teremos uma matriz de 1x784.\n",
        "\n",
        "- Normalizar os dados: Os valores de entrada representam os pixels, que vão de 0 a 255. Para ter um bom resultado o ideial é que os dados não tenham uma variação tão grande e portanto vamos dividir tudo por 255. Dessa forma, os valores vão variar de 0 a 1."
      ]
    },
    {
      "cell_type": "code",
      "metadata": {
        "id": "yaclXLpu206w",
        "colab_type": "code",
        "colab": {}
      },
      "source": [
        "y_train_one_hot = one_hot(y_train, depth=10)  # fazer one_hot de y_train\n",
        "x_train_reshaped = x_train.reshape((int(training_size), 784)) # fazer reshape de x_train para 784\n",
        "x_train_reshaped = x_train_reshaped / 255.0 # normalizar dividindo por 255\n",
        "\n",
        "x_test_reshaped = x_test.reshape((int(test_size), 784))# reshape de x_test para 784\n",
        "x_test_reshaped = x_test_reshaped / 255.0 # normalizar dividindo por 255"
      ],
      "execution_count": 11,
      "outputs": []
    },
    {
      "cell_type": "markdown",
      "metadata": {
        "id": "dGWT7AME4jNp",
        "colab_type": "text"
      },
      "source": [
        "## Conferindo"
      ]
    },
    {
      "cell_type": "code",
      "metadata": {
        "id": "tk2oXzOyvVu4",
        "colab_type": "code",
        "colab": {
          "base_uri": "https://localhost:8080/",
          "height": 52
        },
        "outputId": "b76d037c-119f-44d7-e069-d1f9eac14133"
      },
      "source": [
        "print(y_train[67])\n",
        "print(y_train_one_hot[67])"
      ],
      "execution_count": 12,
      "outputs": [
        {
          "output_type": "stream",
          "text": [
            "1\n",
            "[0. 1. 0. 0. 0. 0. 0. 0. 0. 0.]\n"
          ],
          "name": "stdout"
        }
      ]
    },
    {
      "cell_type": "code",
      "metadata": {
        "id": "8tYLEMD50DOk",
        "colab_type": "code",
        "colab": {
          "base_uri": "https://localhost:8080/",
          "height": 34
        },
        "outputId": "ccc2aa66-00a7-4bb7-a619-780b951b4bd3"
      },
      "source": [
        "x_train_reshaped.shape # 60.000 exemplos"
      ],
      "execution_count": 13,
      "outputs": [
        {
          "output_type": "execute_result",
          "data": {
            "text/plain": [
              "(60000, 784)"
            ]
          },
          "metadata": {
            "tags": []
          },
          "execution_count": 13
        }
      ]
    },
    {
      "cell_type": "markdown",
      "metadata": {
        "id": "jT-GfvKD28ve",
        "colab_type": "text"
      },
      "source": [
        "# Treinando"
      ]
    },
    {
      "cell_type": "code",
      "metadata": {
        "id": "2Onwb0pIt6vB",
        "colab_type": "code",
        "colab": {
          "base_uri": "https://localhost:8080/",
          "height": 536
        },
        "outputId": "c23ac281-0f7f-4942-b996-d03d2840b790"
      },
      "source": [
        "for e in range(epochs):  #epochs passar 30 vezes em 60.000 exemplos\n",
        "    X, y = shuffleData(x_train_reshaped, y_train_one_hot) #shuffleData = embaralhar os dados a cada vez\n",
        "    batches = [(X[i:i + batch_size], y[i:i + batch_size])\n",
        "                for i in range(0, int(training_size), batch_size)]\n",
        "    for batch in batches: # batches = lotes de 10 \n",
        "        Xi = batch[0] # primeiro lote 10 exemplos\n",
        "        yi = batch[1] # respectivos 10 layer dos exemplos\n",
        "\n",
        "        # STEP 1: feedforward --------------------------------------------\n",
        "        a1 = Xi\n",
        "        z2 = a1.dot(w1) + b1\n",
        "        a2 = sigmoid(z2)\n",
        "        z3 = a2.dot(w2) + b2\n",
        "        a3 = softmax(z3)\n",
        "\n",
        "        # STEP 2: backpropagation ----------------------------------------\n",
        "        delta3 = (a3 - yi)\n",
        "        grad_w2 = (delta3.T).dot(a2) / batch_size\n",
        "        grad_b2 = np.sum(delta3, axis=0)/ batch_size\n",
        "\n",
        "        delta2 = delta3.dot(w2.T)* sigmoidPrime(z2)\n",
        "        grad_w1 = (delta2.T).dot(a1) / batch_size\n",
        "        grad_b1 = np.sum(delta2, axis=0) / batch_size\n",
        "\n",
        "        # regularization of backpropagation\n",
        "        grad_w2 = grad_w2.T + (reg_lambda * w2) / training_size\n",
        "        grad_w1 = grad_w1.T + (reg_lambda * w1) / training_size\n",
        "\n",
        "        # STEP 3: update weights -----------------------------------------\n",
        "        w1 = w1 - lr * grad_w1\n",
        "        b1 = b1 - lr * grad_b1   \n",
        "        w2 = w2 - lr * grad_w2 \n",
        "        b2 = b2 - lr * grad_b2\n",
        "\n",
        "    # Let's check the cost in this epoch\n",
        "    print(\"Epoch: {0} - cost: {1}\".format(e, cost(X, y, w1, b1, w2, b2, reg_lambda)))"
      ],
      "execution_count": 14,
      "outputs": [
        {
          "output_type": "stream",
          "text": [
            "Epoch: 0 - cost: 0.44946588885707606\n",
            "Epoch: 1 - cost: 0.36753515915041457\n",
            "Epoch: 2 - cost: 0.3254667914844541\n",
            "Epoch: 3 - cost: 0.28659767359886046\n",
            "Epoch: 4 - cost: 0.26572187107681916\n",
            "Epoch: 5 - cost: 0.25163497152360553\n",
            "Epoch: 6 - cost: 0.24196797263769945\n",
            "Epoch: 7 - cost: 0.22933171600053773\n",
            "Epoch: 8 - cost: 0.2224810741425167\n",
            "Epoch: 9 - cost: 0.22312708900293374\n",
            "Epoch: 10 - cost: 0.21443639170564222\n",
            "Epoch: 11 - cost: 0.21326474693352662\n",
            "Epoch: 12 - cost: 0.20726415675171578\n",
            "Epoch: 13 - cost: 0.20993426994575476\n",
            "Epoch: 14 - cost: 0.20928935904468235\n",
            "Epoch: 15 - cost: 0.2029880404145361\n",
            "Epoch: 16 - cost: 0.19505891434136946\n",
            "Epoch: 17 - cost: 0.19875880042046304\n",
            "Epoch: 18 - cost: 0.1930378597003413\n",
            "Epoch: 19 - cost: 0.19272370130224203\n",
            "Epoch: 20 - cost: 0.1968643031886249\n",
            "Epoch: 21 - cost: 0.19008070072182856\n",
            "Epoch: 22 - cost: 0.19298471404700246\n",
            "Epoch: 23 - cost: 0.18394327263136687\n",
            "Epoch: 24 - cost: 0.1858993479931659\n",
            "Epoch: 25 - cost: 0.18148341973329102\n",
            "Epoch: 26 - cost: 0.18430872908641047\n",
            "Epoch: 27 - cost: 0.1819800445021238\n",
            "Epoch: 28 - cost: 0.18520684943637933\n",
            "Epoch: 29 - cost: 0.18158502128787005\n"
          ],
          "name": "stdout"
        }
      ]
    },
    {
      "cell_type": "code",
      "metadata": {
        "id": "BGv-V5we3vy9",
        "colab_type": "code",
        "colab": {
          "base_uri": "https://localhost:8080/",
          "height": 34
        },
        "outputId": "10ac1461-f8fa-4f63-c1ef-00dde0fa08ee"
      },
      "source": [
        "# Comparação com o que o modelo preveu\n",
        "# com o valor real \n",
        "predictions = predict(x_test_reshaped, w1, b1, w2, b2)\n",
        "print(\"Precision in the test set: {0}\".format(evaluatePredictions(predictions, y_test)))\n",
        "# Acertou dos 10 números 96 porcentos."
      ],
      "execution_count": 15,
      "outputs": [
        {
          "output_type": "stream",
          "text": [
            "Precision in the test set: 0.97\n"
          ],
          "name": "stdout"
        }
      ]
    },
    {
      "cell_type": "markdown",
      "metadata": {
        "id": "L1xsKvhD6lq5",
        "colab_type": "text"
      },
      "source": [
        "# Analisando os casos de erro\n",
        "\n",
        "Abaixo estão os índices que a rede classificou errado:"
      ]
    },
    {
      "cell_type": "code",
      "metadata": {
        "id": "J5R1fo6q5g21",
        "colab_type": "code",
        "colab": {
          "base_uri": "https://localhost:8080/",
          "height": 501
        },
        "outputId": "f658d67b-de40-4dd9-d0d7-5090d9e080c3"
      },
      "source": [
        "np.where(np.not_equal(predictions, y_test)==True)"
      ],
      "execution_count": 16,
      "outputs": [
        {
          "output_type": "execute_result",
          "data": {
            "text/plain": [
              "(array([   8,   61,  247,  259,  290,  321,  324,  340,  381,  445,  447,\n",
              "         495,  543,  582,  591,  619,  646,  659,  684,  691,  707,  717,\n",
              "         740,  846,  882,  939,  947,  951,  956,  965, 1014, 1044, 1050,\n",
              "        1112, 1114, 1181, 1182, 1194, 1198, 1224, 1226, 1232, 1242, 1247,\n",
              "        1283, 1289, 1319, 1325, 1326, 1328, 1476, 1494, 1500, 1522, 1527,\n",
              "        1530, 1549, 1553, 1587, 1678, 1681, 1709, 1717, 1737, 1754, 1790,\n",
              "        1850, 1857, 1878, 1901, 1940, 1941, 1981, 1982, 1984, 2016, 2024,\n",
              "        2035, 2040, 2044, 2053, 2093, 2098, 2109, 2118, 2129, 2135, 2182,\n",
              "        2185, 2186, 2189, 2266, 2272, 2293, 2369, 2387, 2414, 2422, 2454,\n",
              "        2462, 2488, 2560, 2574, 2598, 2607, 2654, 2720, 2771, 2896, 2921,\n",
              "        2927, 2939, 2976, 2995, 3060, 3062, 3073, 3117, 3218, 3225, 3254,\n",
              "        3289, 3330, 3336, 3375, 3376, 3384, 3422, 3503, 3520, 3533, 3549,\n",
              "        3558, 3559, 3567, 3597, 3604, 3674, 3681, 3702, 3718, 3751, 3757,\n",
              "        3767, 3780, 3808, 3811, 3853, 3855, 3893, 3902, 3906, 3941, 3943,\n",
              "        3946, 3968, 4007, 4063, 4065, 4072, 4075, 4078, 4093, 4152, 4163,\n",
              "        4176, 4193, 4199, 4201, 4205, 4211, 4212, 4224, 4248, 4255, 4289,\n",
              "        4306, 4344, 4355, 4369, 4374, 4419, 4425, 4497, 4504, 4536, 4575,\n",
              "        4601, 4615, 4690, 4731, 4740, 4761, 4807, 4814, 4823, 4860, 4874,\n",
              "        4876, 4880, 4886, 4956, 4966, 4981, 4990, 5086, 5246, 5331, 5495,\n",
              "        5600, 5634, 5642, 5678, 5734, 5749, 5835, 5842, 5887, 5888, 5926,\n",
              "        5936, 5937, 5955, 5973, 6027, 6035, 6045, 6046, 6059, 6065, 6071,\n",
              "        6166, 6172, 6347, 6392, 6505, 6538, 6555, 6558, 6560, 6568, 6571,\n",
              "        6597, 6598, 6608, 6625, 6651, 6706, 6755, 6765, 6783, 6926, 7216,\n",
              "        7432, 7451, 7857, 7858, 7886, 7909, 7917, 8020, 8062, 8094, 8183,\n",
              "        8255, 8279, 8318, 8362, 8406, 8408, 8410, 8413, 8453, 8502, 8520,\n",
              "        8523, 9009, 9015, 9016, 9019, 9024, 9036, 9045, 9071, 9280, 9587,\n",
              "        9634, 9664, 9669, 9679, 9692, 9729, 9745, 9755, 9768, 9770, 9779,\n",
              "        9839, 9905, 9982]),)"
            ]
          },
          "metadata": {
            "tags": []
          },
          "execution_count": 16
        }
      ]
    },
    {
      "cell_type": "markdown",
      "metadata": {
        "id": "F5GxfH1p7M1N",
        "colab_type": "text"
      },
      "source": [
        "Vamos ver os exemplos desses índices:"
      ]
    },
    {
      "cell_type": "code",
      "metadata": {
        "id": "fgQdFS_n6Q21",
        "colab_type": "code",
        "colab": {
          "base_uri": "https://localhost:8080/",
          "height": 317
        },
        "outputId": "b6f8df6f-9cad-4a3e-a35a-159f5254dc19"
      },
      "source": [
        "num_example = 9905\n",
        "print(\"Valor real:\", y_test[num_example])\n",
        "print(\"Valor predito:\", predictions[num_example])\n",
        "print(\"Imagem:\")\n",
        "plt.imshow(x_test[num_example], cmap='Greys')\n",
        "plt.gray()\n",
        "plt.show()"
      ],
      "execution_count": 17,
      "outputs": [
        {
          "output_type": "stream",
          "text": [
            "Valor real: 3\n",
            "Valor predito: 9\n",
            "Imagem:\n"
          ],
          "name": "stdout"
        },
        {
          "output_type": "display_data",
          "data": {
            "image/png": "[encoded data removed]",
            "text/plain": [
              "<Figure size 432x288 with 1 Axes>"
            ]
          },
          "metadata": {
            "tags": [],
            "needs_background": "light"
          }
        }
      ]
    }
  ]
}