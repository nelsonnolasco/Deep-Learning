{
  "nbformat": 4,
  "nbformat_minor": 0,
  "metadata": {
    "colab": {
      "name": "atividade7_denoising_autoencoder_Nelson.ipynb",
      "provenance": [],
      "collapsed_sections": [],
      "include_colab_link": true
    },
    "kernelspec": {
      "name": "python3",
      "display_name": "Python 3"
    },
    "accelerator": "GPU"
  },
  "cells": [
    {
      "cell_type": "markdown",
      "metadata": {
        "id": "view-in-github",
        "colab_type": "text"
      },
      "source": [
        "<a href=\"https://colab.research.google.com/github/nelsonnolasco/Deep-Learning/blob/master/atividade7_denoising_autoencoder_Nelson.ipynb\" target=\"_parent\"><img src=\"https://colab.research.google.com/assets/colab-badge.svg\" alt=\"Open In Colab\"/></a>"
      ]
    },
    {
      "cell_type": "markdown",
      "metadata": {
        "id": "bJ1eBC0WIIGY",
        "colab_type": "text"
      },
      "source": [
        "Aluno: Nelson de Campos Nolasco.\n",
        "\n",
        "Disciplina: Deep Learning.\n",
        "\n",
        "Professor: Rafael Glater"
      ]
    },
    {
      "cell_type": "code",
      "metadata": {
        "id": "h6hUONtORMDS",
        "colab_type": "code",
        "colab": {}
      },
      "source": [
        "%tensorflow_version 2.x\n",
        "%matplotlib inline"
      ],
      "execution_count": 1,
      "outputs": []
    },
    {
      "cell_type": "code",
      "metadata": {
        "id": "a3sTDEzIRwcc",
        "colab_type": "code",
        "colab": {}
      },
      "source": [
        "import tensorflow as tf\n",
        "from matplotlib import pyplot as plt\n",
        "import numpy as np"
      ],
      "execution_count": 2,
      "outputs": []
    },
    {
      "cell_type": "code",
      "metadata": {
        "id": "U79dsX6fSCSO",
        "colab_type": "code",
        "colab": {
          "base_uri": "https://localhost:8080/",
          "height": 52
        },
        "outputId": "503df1f1-3ee9-4ebf-d6cb-965f85d95436"
      },
      "source": [
        "(train_images, train_labels), (test_images, test_labels) = tf.keras.datasets.cifar10.load_data()"
      ],
      "execution_count": 3,
      "outputs": [
        {
          "output_type": "stream",
          "text": [
            "Downloading data from https://www.cs.toronto.edu/~kriz/cifar-10-python.tar.gz\n",
            "170500096/170498071 [==============================] - 11s 0us/step\n"
          ],
          "name": "stdout"
        }
      ]
    },
    {
      "cell_type": "code",
      "metadata": {
        "id": "uTsijU6ySF5-",
        "colab_type": "code",
        "colab": {}
      },
      "source": [
        "train_images = train_images / 255.0\n",
        "test_images = test_images / 255.0"
      ],
      "execution_count": 4,
      "outputs": []
    },
    {
      "cell_type": "code",
      "metadata": {
        "id": "e7kROJZS3ytM",
        "colab_type": "code",
        "colab": {}
      },
      "source": [
        "def add_noise(data):\n",
        "   noise = np.random.normal(loc=0.0, scale=0.1, size=data.shape)\n",
        "   data = data + noise\n",
        "   return data\n",
        "\n",
        "train_images_noisy = add_noise(train_images)\n",
        "test_images_noisy = add_noise(test_images)"
      ],
      "execution_count": 5,
      "outputs": []
    },
    {
      "cell_type": "code",
      "metadata": {
        "id": "AsdJYFpfUhVn",
        "colab_type": "code",
        "colab": {
          "base_uri": "https://localhost:8080/",
          "height": 219
        },
        "outputId": "bd28d7a1-053e-4f63-e4ce-79a920e8cef5"
      },
      "source": [
        "figure, plots = plt.subplots(ncols=2, nrows=1)\n",
        "plots[0].imshow(train_images[45])\n",
        "plots[1].imshow(train_images_noisy[45])\n",
        "plt.show()"
      ],
      "execution_count": 6,
      "outputs": [
        {
          "output_type": "stream",
          "text": [
            "Clipping input data to the valid range for imshow with RGB data ([0..1] for floats or [0..255] for integers).\n"
          ],
          "name": "stderr"
        },
        {
          "output_type": "display_data",
          "data": {
            "image/png": "[encoded data removed]",
            "text/plain": [
              "<Figure size 432x288 with 2 Axes>"
            ]
          },
          "metadata": {
            "tags": [],
            "needs_background": "light"
          }
        }
      ]
    },
    {
      "cell_type": "code",
      "metadata": {
        "id": "Wlyud5QQQJS_",
        "colab_type": "code",
        "colab": {}
      },
      "source": [
        "def conv_block(x, filters, kernel_size, strides=2):\n",
        "   x = tf.keras.layers.Conv2D(filters=filters,\n",
        "              kernel_size=kernel_size,\n",
        "              strides=strides,\n",
        "              padding='same', activation='relu')(x)\n",
        "   return x\n",
        "\n",
        "def deconv_block(x, filters, kernel_size):\n",
        "   x = tf.keras.layers.Conv2DTranspose(filters=filters,\n",
        "                       kernel_size=kernel_size,\n",
        "                       strides=2,\n",
        "                       padding='same', activation='relu')(x)\n",
        "   return x\n",
        "\n",
        "def denoising_autoencoder():\n",
        "   dae_inputs = tf.keras.layers.Input(shape=(32, 32, 3), name='dae_input')\n",
        "   conv_block1 = conv_block(dae_inputs, 32, 3)\n",
        "   conv_block2 = conv_block(conv_block1, 64, 3)\n",
        "   conv_block3 = conv_block(conv_block2, 128, 3)\n",
        "   conv_block4 = conv_block(conv_block3, 256, 3)\n",
        "   conv_block5 = conv_block(conv_block4, 256, 3, 1)\n",
        "   \n",
        "   deconv_block1 = deconv_block(conv_block5, 256, 3)\n",
        "   merge1 = tf.keras.layers.Concatenate()([deconv_block1, conv_block3])\n",
        "   deconv_block2 = deconv_block(merge1, 128, 3)\n",
        "   merge2 = tf.keras.layers.Concatenate()([deconv_block2, conv_block2])\n",
        "   deconv_block3 = deconv_block(merge2, 64, 3)\n",
        "   merge3 = tf.keras.layers.Concatenate()([deconv_block3, conv_block1])\n",
        "   deconv_block4 = deconv_block(merge3, 32, 3)\n",
        "\n",
        "   final_deconv = tf.keras.layers.Conv2DTranspose(filters=3,\n",
        "                       kernel_size=3, \n",
        "                       padding='same')(deconv_block4)\n",
        "\n",
        "   dae_outputs = tf.keras.layers.Activation('sigmoid', name='dae_output')(final_deconv)\n",
        "  \n",
        "   return tf.keras.Model(dae_inputs, dae_outputs, name='dae')"
      ],
      "execution_count": 7,
      "outputs": []
    },
    {
      "cell_type": "code",
      "metadata": {
        "id": "EEH4wtG6SfAu",
        "colab_type": "code",
        "colab": {
          "base_uri": "https://localhost:8080/",
          "height": 1000
        },
        "outputId": "de526c03-3baa-48ba-a7e7-29f0a59b2c8a"
      },
      "source": [
        "dae = denoising_autoencoder()\n",
        "dae.compile(loss='mse', optimizer='adam')\n",
        "\n",
        "dae.fit(train_images_noisy,\n",
        "       train_images,\n",
        "       validation_data=(test_images_noisy, test_images),\n",
        "       epochs=40,\n",
        "       batch_size=128)"
      ],
      "execution_count": 8,
      "outputs": [
        {
          "output_type": "stream",
          "text": [
            "Epoch 1/40\n",
            "391/391 [==============================] - 23s 59ms/step - loss: 0.0085 - val_loss: 0.0030\n",
            "Epoch 2/40\n",
            "391/391 [==============================] - 23s 58ms/step - loss: 0.0027 - val_loss: 0.0024\n",
            "Epoch 3/40\n",
            "391/391 [==============================] - 23s 58ms/step - loss: 0.0023 - val_loss: 0.0022\n",
            "Epoch 4/40\n",
            "391/391 [==============================] - 23s 58ms/step - loss: 0.0022 - val_loss: 0.0022\n",
            "Epoch 5/40\n",
            "391/391 [==============================] - 23s 58ms/step - loss: 0.0021 - val_loss: 0.0021\n",
            "Epoch 6/40\n",
            "391/391 [==============================] - 23s 58ms/step - loss: 0.0021 - val_loss: 0.0020\n",
            "Epoch 7/40\n",
            "391/391 [==============================] - 23s 58ms/step - loss: 0.0020 - val_loss: 0.0020\n",
            "Epoch 8/40\n",
            "391/391 [==============================] - 23s 58ms/step - loss: 0.0020 - val_loss: 0.0020\n",
            "Epoch 9/40\n",
            "391/391 [==============================] - 22s 57ms/step - loss: 0.0020 - val_loss: 0.0020\n",
            "Epoch 10/40\n",
            "391/391 [==============================] - 22s 57ms/step - loss: 0.0020 - val_loss: 0.0020\n",
            "Epoch 11/40\n",
            "391/391 [==============================] - 22s 57ms/step - loss: 0.0020 - val_loss: 0.0020\n",
            "Epoch 12/40\n",
            "391/391 [==============================] - 22s 57ms/step - loss: 0.0019 - val_loss: 0.0019\n",
            "Epoch 13/40\n",
            "391/391 [==============================] - 23s 58ms/step - loss: 0.0019 - val_loss: 0.0019\n",
            "Epoch 14/40\n",
            "391/391 [==============================] - 23s 58ms/step - loss: 0.0019 - val_loss: 0.0019\n",
            "Epoch 15/40\n",
            "391/391 [==============================] - 22s 57ms/step - loss: 0.0019 - val_loss: 0.0019\n",
            "Epoch 16/40\n",
            "391/391 [==============================] - 23s 58ms/step - loss: 0.0019 - val_loss: 0.0018\n",
            "Epoch 17/40\n",
            "391/391 [==============================] - 23s 58ms/step - loss: 0.0018 - val_loss: 0.0018\n",
            "Epoch 18/40\n",
            "391/391 [==============================] - 23s 58ms/step - loss: 0.0018 - val_loss: 0.0018\n",
            "Epoch 19/40\n",
            "391/391 [==============================] - 23s 58ms/step - loss: 0.0018 - val_loss: 0.0018\n",
            "Epoch 20/40\n",
            "391/391 [==============================] - 22s 58ms/step - loss: 0.0018 - val_loss: 0.0018\n",
            "Epoch 21/40\n",
            "391/391 [==============================] - 23s 58ms/step - loss: 0.0018 - val_loss: 0.0018\n",
            "Epoch 22/40\n",
            "391/391 [==============================] - 23s 58ms/step - loss: 0.0017 - val_loss: 0.0017\n",
            "Epoch 23/40\n",
            "391/391 [==============================] - 23s 58ms/step - loss: 0.0017 - val_loss: 0.0017\n",
            "Epoch 24/40\n",
            "391/391 [==============================] - 23s 58ms/step - loss: 0.0017 - val_loss: 0.0017\n",
            "Epoch 25/40\n",
            "391/391 [==============================] - 23s 58ms/step - loss: 0.0017 - val_loss: 0.0017\n",
            "Epoch 26/40\n",
            "391/391 [==============================] - 23s 58ms/step - loss: 0.0017 - val_loss: 0.0017\n",
            "Epoch 27/40\n",
            "391/391 [==============================] - 23s 58ms/step - loss: 0.0017 - val_loss: 0.0017\n",
            "Epoch 28/40\n",
            "391/391 [==============================] - 23s 58ms/step - loss: 0.0016 - val_loss: 0.0017\n",
            "Epoch 29/40\n",
            "391/391 [==============================] - 23s 58ms/step - loss: 0.0016 - val_loss: 0.0017\n",
            "Epoch 30/40\n",
            "391/391 [==============================] - 23s 58ms/step - loss: 0.0016 - val_loss: 0.0017\n",
            "Epoch 31/40\n",
            "391/391 [==============================] - 23s 58ms/step - loss: 0.0016 - val_loss: 0.0016\n",
            "Epoch 32/40\n",
            "391/391 [==============================] - 23s 58ms/step - loss: 0.0016 - val_loss: 0.0016\n",
            "Epoch 33/40\n",
            "391/391 [==============================] - 23s 58ms/step - loss: 0.0016 - val_loss: 0.0016\n",
            "Epoch 34/40\n",
            "391/391 [==============================] - 23s 58ms/step - loss: 0.0016 - val_loss: 0.0016\n",
            "Epoch 35/40\n",
            "391/391 [==============================] - 23s 58ms/step - loss: 0.0016 - val_loss: 0.0016\n",
            "Epoch 36/40\n",
            "391/391 [==============================] - 23s 58ms/step - loss: 0.0016 - val_loss: 0.0016\n",
            "Epoch 37/40\n",
            "391/391 [==============================] - 23s 58ms/step - loss: 0.0016 - val_loss: 0.0016\n",
            "Epoch 38/40\n",
            "391/391 [==============================] - 22s 58ms/step - loss: 0.0015 - val_loss: 0.0016\n",
            "Epoch 39/40\n",
            "391/391 [==============================] - 23s 58ms/step - loss: 0.0015 - val_loss: 0.0016\n",
            "Epoch 40/40\n",
            "391/391 [==============================] - 23s 58ms/step - loss: 0.0015 - val_loss: 0.0016\n"
          ],
          "name": "stdout"
        },
        {
          "output_type": "execute_result",
          "data": {
            "text/plain": [
              "<tensorflow.python.keras.callbacks.History at 0x7f36f05781d0>"
            ]
          },
          "metadata": {
            "tags": []
          },
          "execution_count": 8
        }
      ]
    },
    {
      "cell_type": "code",
      "metadata": {
        "id": "wGzQTULfU0Bl",
        "colab_type": "code",
        "colab": {}
      },
      "source": [
        "test_images_denoised = dae.predict(test_images_noisy)"
      ],
      "execution_count": 9,
      "outputs": []
    },
    {
      "cell_type": "code",
      "metadata": {
        "id": "ayCZ-7oGVDTZ",
        "colab_type": "code",
        "colab": {
          "base_uri": "https://localhost:8080/",
          "height": 166
        },
        "outputId": "ec1adc50-f580-4544-ceee-cf6414f4ce2b"
      },
      "source": [
        "idx = 39\n",
        "figure, plots = plt.subplots(ncols=3, nrows=1)\n",
        "plots[0].imshow(test_images[idx])\n",
        "plots[1].imshow(test_images_noisy[idx])\n",
        "plots[2].imshow(test_images_denoised[idx])\n",
        "plt.show()"
      ],
      "execution_count": 10,
      "outputs": [
        {
          "output_type": "stream",
          "text": [
            "Clipping input data to the valid range for imshow with RGB data ([0..1] for floats or [0..255] for integers).\n"
          ],
          "name": "stderr"
        },
        {
          "output_type": "display_data",
          "data": {
            "image/png": "[encoded data removed]",
            "text/plain": [
              "<Figure size 432x288 with 3 Axes>"
            ]
          },
          "metadata": {
            "tags": [],
            "needs_background": "light"
          }
        }
      ]
    }
  ]
}